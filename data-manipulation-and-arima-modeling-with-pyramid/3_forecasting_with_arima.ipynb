{
 "cells": [
  {
   "cell_type": "markdown",
   "metadata": {},
   "source": [
    "# Forecasting Weekly Hotel Cancellations with an ARIMA Model\n",
    "Remember the weekly time series that you formed in Milestone 1? Your objective is to train an ARIMA model using this newly formed time series to forecast weekly cancellations for the hotel.\n",
    "\n",
    "\n",
    "## Goal: \n",
    "The deliverable for this milestone is a Jupyter notebook outlining the following:\n",
    "\n",
    "Configuration of an ARIMA model using pmdarima, with the model of best fit ranked according to the BIC\n",
    "\n",
    "Calculation of model accuracy against the test set using RMSE"
   ]
  },
  {
   "cell_type": "code",
   "execution_count": 41,
   "metadata": {},
   "outputs": [],
   "source": [
    "import warnings\n",
    "import pandas as pd\n",
    "\n",
    "import pmdarima as pm\n",
    "from sklearn.metrics import root_mean_squared_error\n",
    "\n",
    "import plotly.graph_objects as go\n",
    "\n",
    "# Set pandas options to display more columns and rows\n",
    "pd.set_option(\"display.max_columns\", None)  # Show all columns\n",
    "pd.set_option(\"display.max_rows\", 50)  # Show up to 50 rows\n",
    "\n",
    "# Silence warnings because pdarima is verbose\n",
    "warnings.filterwarnings(\"ignore\")"
   ]
  },
  {
   "cell_type": "code",
   "execution_count": 42,
   "metadata": {},
   "outputs": [],
   "source": [
    "df = pd.read_csv(\"data/H1.csv\")\n",
    "df = df.sort_values(by=[\"ArrivalDateYear\", \"ArrivalDateWeekNumber\"])\n",
    "df[\"Date_Year_Week\"] = df[\"ArrivalDateYear\"].astype(str) + df[\n",
    "    \"ArrivalDateWeekNumber\"\n",
    "].astype(str)\n",
    "\n",
    "cancellations_per_week = df.groupby(\"Date_Year_Week\")[\"IsCanceled\"].sum().reset_index()"
   ]
  },
  {
   "cell_type": "code",
   "execution_count": 46,
   "metadata": {},
   "outputs": [
    {
     "name": "stdout",
     "output_type": "stream",
     "text": [
      "Split point: 103\n",
      "Performing stepwise search to minimize bic\n",
      " ARIMA(0,1,0)(0,1,0)[51]             : BIC=611.924, Time=0.08 sec\n",
      " ARIMA(1,1,0)(1,1,0)[51]             : BIC=inf, Time=0.80 sec\n",
      " ARIMA(0,1,1)(0,1,1)[51]             : BIC=inf, Time=1.19 sec\n",
      " ARIMA(0,1,0)(1,1,0)[51]             : BIC=inf, Time=2.14 sec\n",
      " ARIMA(0,1,0)(0,1,1)[51]             : BIC=inf, Time=0.72 sec\n",
      " ARIMA(0,1,0)(1,1,1)[51]             : BIC=619.328, Time=2.01 sec\n",
      " ARIMA(1,1,0)(0,1,0)[51]             : BIC=592.095, Time=0.15 sec\n",
      " ARIMA(1,1,0)(0,1,1)[51]             : BIC=inf, Time=0.70 sec\n",
      " ARIMA(1,1,0)(1,1,1)[51]             : BIC=599.826, Time=0.86 sec\n",
      " ARIMA(2,1,0)(0,1,0)[51]             : BIC=585.987, Time=0.22 sec\n",
      " ARIMA(2,1,0)(1,1,0)[51]             : BIC=589.918, Time=0.96 sec\n",
      " ARIMA(2,1,0)(0,1,1)[51]             : BIC=589.918, Time=0.61 sec\n",
      " ARIMA(2,1,0)(1,1,1)[51]             : BIC=593.850, Time=1.21 sec\n",
      " ARIMA(3,1,0)(0,1,0)[51]             : BIC=587.833, Time=0.29 sec\n",
      " ARIMA(2,1,1)(0,1,0)[51]             : BIC=inf, Time=0.37 sec\n",
      " ARIMA(1,1,1)(0,1,0)[51]             : BIC=inf, Time=0.22 sec\n",
      " ARIMA(3,1,1)(0,1,0)[51]             : BIC=inf, Time=0.51 sec\n",
      " ARIMA(2,1,0)(0,1,0)[51] intercept   : BIC=589.847, Time=0.21 sec\n",
      "\n",
      "Best model:  ARIMA(2,1,0)(0,1,0)[51]          \n",
      "Total fit time: 13.245 seconds\n"
     ]
    }
   ],
   "source": [
    "# Calculate split point at 90% of data. This plot shows there's potentially data missing :).\n",
    "\n",
    "split_point = int(len(cancellations_per_week) * 0.9)\n",
    "print(f\"Split point: {split_point}\")\n",
    "\n",
    "# Split the data\n",
    "X_train = cancellations_per_week.iloc[:split_point][\"Date_Year_Week\"]\n",
    "X_test = cancellations_per_week.iloc[split_point:][\"Date_Year_Week\"]\n",
    "\n",
    "Y_train = cancellations_per_week.iloc[:split_point][\"IsCanceled\"]\n",
    "Y_test = cancellations_per_week.iloc[split_point:][\"IsCanceled\"]\n",
    "\n",
    "# Train arima\n",
    "arima = pm.auto_arima(\n",
    "    Y_train,\n",
    "    start_p=0,\n",
    "    start_q=0,\n",
    "    max_p=10,\n",
    "    max_q=10,\n",
    "    start_P=0,\n",
    "    start_Q=0,\n",
    "    max_P=10,\n",
    "    max_Q=10,\n",
    "    m=51,\n",
    "    stepwise=True,\n",
    "    seasonal=True,\n",
    "    information_criterion=\"bic\",\n",
    "    trace=True,\n",
    "    d=1,\n",
    "    D=1,\n",
    "    error_action=\"warn\",\n",
    "    suppress_warnings=True,\n",
    "    random_state=20,\n",
    "    n_fits=30,\n",
    ")"
   ]
  },
  {
   "cell_type": "code",
   "execution_count": 44,
   "metadata": {},
   "outputs": [
    {
     "name": "stdout",
     "output_type": "stream",
     "text": [
      "RMSE: 40.063526202126745\n"
     ]
    }
   ],
   "source": [
    "y_hat = arima.predict(n_periods=Y_test.shape[0], index=X_test)\n",
    "\n",
    "rmse = root_mean_squared_error(Y_test, y_hat)\n",
    "\n",
    "print(f\"RMSE: {rmse}\")"
   ]
  },
  {
   "cell_type": "code",
   "execution_count": 45,
   "metadata": {},
   "outputs": [
    {
     "data": {
      "application/vnd.plotly.v1+json": {
       "config": {
        "plotlyServerURL": "https://plot.ly"
       },
       "data": [
        {
         "mode": "lines",
         "name": "Training Data",
         "type": "scatter",
         "x": [
          "201527",
          "201528",
          "201529",
          "201530",
          "201531",
          "201532",
          "201533",
          "201534",
          "201535",
          "201536",
          "201537",
          "201538",
          "201539",
          "201540",
          "201541",
          "201542",
          "201543",
          "201544",
          "201545",
          "201546",
          "201547",
          "201548",
          "201549",
          "201550",
          "201551",
          "201552",
          "201553",
          "20161",
          "201610",
          "201611",
          "201612",
          "201613",
          "201614",
          "201615",
          "201616",
          "201617",
          "201618",
          "201619",
          "20162",
          "201620",
          "201621",
          "201622",
          "201623",
          "201624",
          "201625",
          "201626",
          "201627",
          "201628",
          "201629",
          "20163",
          "201630",
          "201631",
          "201632",
          "201633",
          "201634",
          "201635",
          "201636",
          "201637",
          "201638",
          "201639",
          "20164",
          "201640",
          "201641",
          "201642",
          "201643",
          "201644",
          "201645",
          "201646",
          "201647",
          "201648",
          "201649",
          "20165",
          "201650",
          "201651",
          "201652",
          "201653",
          "20166",
          "20167",
          "20168",
          "20169",
          "20171",
          "201710",
          "201711",
          "201712",
          "201713",
          "201714",
          "201715",
          "201716",
          "201717",
          "201718",
          "201719",
          "20172",
          "201720",
          "201721",
          "201722",
          "201723",
          "201724",
          "201725",
          "201726",
          "201727",
          "201728",
          "201729",
          "20173"
         ],
         "y": {
          "bdata": "KQAwAFcASgBlAEQAYABFAFgAlABMALoAewBbAMYAEABeACwALQA2AD8AEgB/ABgAJQBPACsAIwBYADAAQQB2AEEAUABiAHQA3gBPACgAjwCNAFIAYwBNAG4ASwBQAEsAdwAOAHgAYgB8AJUAkQB2AGoAeQBDAIEADgBwAHYAVQC2AIYAbwBGACcAOwBKAA8AOQAkAFQAXwA5ALAAIQCFADYAfgBTADEAaQBtALMAaABqAKcAagAqAE8AggDKAHUAmACDAKEAgwCLAJYAKwA=",
          "dtype": "i2"
         }
        },
        {
         "mode": "lines",
         "name": "Test Data",
         "type": "scatter",
         "x": [
          "201730",
          "201731",
          "201732",
          "201733",
          "201734",
          "201735",
          "20174",
          "20175",
          "20176",
          "20177",
          "20178",
          "20179"
         ],
         "y": {
          "bdata": "nQCtAIwAtgCPAGQAMwAzAFsAYACAAE0A",
          "dtype": "i2"
         }
        },
        {
         "mode": "lines",
         "name": "Predictions",
         "type": "scatter",
         "x": [
          "201730",
          "201731",
          "201732",
          "201733",
          "201734",
          "201735",
          "20174",
          "20175",
          "20176",
          "20177",
          "20178",
          "20179"
         ],
         "y": {
          "bdata": "jCjWw+4+Z0BwasyZLvhhQMnnbRO7mGJAKDFX42neYUDYjEmvOQtbQHjV28MNyGBAhhci2FASVEAjP+YJJy5hQLjN5LCFvTpARBxawSrBXkAhNLFD4hVgQIS4cgu3LlhA",
          "dtype": "f8"
         }
        }
       ],
       "layout": {
        "showlegend": true,
        "template": {
         "data": {
          "bar": [
           {
            "error_x": {
             "color": "#2a3f5f"
            },
            "error_y": {
             "color": "#2a3f5f"
            },
            "marker": {
             "line": {
              "color": "#E5ECF6",
              "width": 0.5
             },
             "pattern": {
              "fillmode": "overlay",
              "size": 10,
              "solidity": 0.2
             }
            },
            "type": "bar"
           }
          ],
          "barpolar": [
           {
            "marker": {
             "line": {
              "color": "#E5ECF6",
              "width": 0.5
             },
             "pattern": {
              "fillmode": "overlay",
              "size": 10,
              "solidity": 0.2
             }
            },
            "type": "barpolar"
           }
          ],
          "carpet": [
           {
            "aaxis": {
             "endlinecolor": "#2a3f5f",
             "gridcolor": "white",
             "linecolor": "white",
             "minorgridcolor": "white",
             "startlinecolor": "#2a3f5f"
            },
            "baxis": {
             "endlinecolor": "#2a3f5f",
             "gridcolor": "white",
             "linecolor": "white",
             "minorgridcolor": "white",
             "startlinecolor": "#2a3f5f"
            },
            "type": "carpet"
           }
          ],
          "choropleth": [
           {
            "colorbar": {
             "outlinewidth": 0,
             "ticks": ""
            },
            "type": "choropleth"
           }
          ],
          "contour": [
           {
            "colorbar": {
             "outlinewidth": 0,
             "ticks": ""
            },
            "colorscale": [
             [
              0,
              "#0d0887"
             ],
             [
              0.1111111111111111,
              "#46039f"
             ],
             [
              0.2222222222222222,
              "#7201a8"
             ],
             [
              0.3333333333333333,
              "#9c179e"
             ],
             [
              0.4444444444444444,
              "#bd3786"
             ],
             [
              0.5555555555555556,
              "#d8576b"
             ],
             [
              0.6666666666666666,
              "#ed7953"
             ],
             [
              0.7777777777777778,
              "#fb9f3a"
             ],
             [
              0.8888888888888888,
              "#fdca26"
             ],
             [
              1,
              "#f0f921"
             ]
            ],
            "type": "contour"
           }
          ],
          "contourcarpet": [
           {
            "colorbar": {
             "outlinewidth": 0,
             "ticks": ""
            },
            "type": "contourcarpet"
           }
          ],
          "heatmap": [
           {
            "colorbar": {
             "outlinewidth": 0,
             "ticks": ""
            },
            "colorscale": [
             [
              0,
              "#0d0887"
             ],
             [
              0.1111111111111111,
              "#46039f"
             ],
             [
              0.2222222222222222,
              "#7201a8"
             ],
             [
              0.3333333333333333,
              "#9c179e"
             ],
             [
              0.4444444444444444,
              "#bd3786"
             ],
             [
              0.5555555555555556,
              "#d8576b"
             ],
             [
              0.6666666666666666,
              "#ed7953"
             ],
             [
              0.7777777777777778,
              "#fb9f3a"
             ],
             [
              0.8888888888888888,
              "#fdca26"
             ],
             [
              1,
              "#f0f921"
             ]
            ],
            "type": "heatmap"
           }
          ],
          "histogram": [
           {
            "marker": {
             "pattern": {
              "fillmode": "overlay",
              "size": 10,
              "solidity": 0.2
             }
            },
            "type": "histogram"
           }
          ],
          "histogram2d": [
           {
            "colorbar": {
             "outlinewidth": 0,
             "ticks": ""
            },
            "colorscale": [
             [
              0,
              "#0d0887"
             ],
             [
              0.1111111111111111,
              "#46039f"
             ],
             [
              0.2222222222222222,
              "#7201a8"
             ],
             [
              0.3333333333333333,
              "#9c179e"
             ],
             [
              0.4444444444444444,
              "#bd3786"
             ],
             [
              0.5555555555555556,
              "#d8576b"
             ],
             [
              0.6666666666666666,
              "#ed7953"
             ],
             [
              0.7777777777777778,
              "#fb9f3a"
             ],
             [
              0.8888888888888888,
              "#fdca26"
             ],
             [
              1,
              "#f0f921"
             ]
            ],
            "type": "histogram2d"
           }
          ],
          "histogram2dcontour": [
           {
            "colorbar": {
             "outlinewidth": 0,
             "ticks": ""
            },
            "colorscale": [
             [
              0,
              "#0d0887"
             ],
             [
              0.1111111111111111,
              "#46039f"
             ],
             [
              0.2222222222222222,
              "#7201a8"
             ],
             [
              0.3333333333333333,
              "#9c179e"
             ],
             [
              0.4444444444444444,
              "#bd3786"
             ],
             [
              0.5555555555555556,
              "#d8576b"
             ],
             [
              0.6666666666666666,
              "#ed7953"
             ],
             [
              0.7777777777777778,
              "#fb9f3a"
             ],
             [
              0.8888888888888888,
              "#fdca26"
             ],
             [
              1,
              "#f0f921"
             ]
            ],
            "type": "histogram2dcontour"
           }
          ],
          "mesh3d": [
           {
            "colorbar": {
             "outlinewidth": 0,
             "ticks": ""
            },
            "type": "mesh3d"
           }
          ],
          "parcoords": [
           {
            "line": {
             "colorbar": {
              "outlinewidth": 0,
              "ticks": ""
             }
            },
            "type": "parcoords"
           }
          ],
          "pie": [
           {
            "automargin": true,
            "type": "pie"
           }
          ],
          "scatter": [
           {
            "fillpattern": {
             "fillmode": "overlay",
             "size": 10,
             "solidity": 0.2
            },
            "type": "scatter"
           }
          ],
          "scatter3d": [
           {
            "line": {
             "colorbar": {
              "outlinewidth": 0,
              "ticks": ""
             }
            },
            "marker": {
             "colorbar": {
              "outlinewidth": 0,
              "ticks": ""
             }
            },
            "type": "scatter3d"
           }
          ],
          "scattercarpet": [
           {
            "marker": {
             "colorbar": {
              "outlinewidth": 0,
              "ticks": ""
             }
            },
            "type": "scattercarpet"
           }
          ],
          "scattergeo": [
           {
            "marker": {
             "colorbar": {
              "outlinewidth": 0,
              "ticks": ""
             }
            },
            "type": "scattergeo"
           }
          ],
          "scattergl": [
           {
            "marker": {
             "colorbar": {
              "outlinewidth": 0,
              "ticks": ""
             }
            },
            "type": "scattergl"
           }
          ],
          "scattermap": [
           {
            "marker": {
             "colorbar": {
              "outlinewidth": 0,
              "ticks": ""
             }
            },
            "type": "scattermap"
           }
          ],
          "scattermapbox": [
           {
            "marker": {
             "colorbar": {
              "outlinewidth": 0,
              "ticks": ""
             }
            },
            "type": "scattermapbox"
           }
          ],
          "scatterpolar": [
           {
            "marker": {
             "colorbar": {
              "outlinewidth": 0,
              "ticks": ""
             }
            },
            "type": "scatterpolar"
           }
          ],
          "scatterpolargl": [
           {
            "marker": {
             "colorbar": {
              "outlinewidth": 0,
              "ticks": ""
             }
            },
            "type": "scatterpolargl"
           }
          ],
          "scatterternary": [
           {
            "marker": {
             "colorbar": {
              "outlinewidth": 0,
              "ticks": ""
             }
            },
            "type": "scatterternary"
           }
          ],
          "surface": [
           {
            "colorbar": {
             "outlinewidth": 0,
             "ticks": ""
            },
            "colorscale": [
             [
              0,
              "#0d0887"
             ],
             [
              0.1111111111111111,
              "#46039f"
             ],
             [
              0.2222222222222222,
              "#7201a8"
             ],
             [
              0.3333333333333333,
              "#9c179e"
             ],
             [
              0.4444444444444444,
              "#bd3786"
             ],
             [
              0.5555555555555556,
              "#d8576b"
             ],
             [
              0.6666666666666666,
              "#ed7953"
             ],
             [
              0.7777777777777778,
              "#fb9f3a"
             ],
             [
              0.8888888888888888,
              "#fdca26"
             ],
             [
              1,
              "#f0f921"
             ]
            ],
            "type": "surface"
           }
          ],
          "table": [
           {
            "cells": {
             "fill": {
              "color": "#EBF0F8"
             },
             "line": {
              "color": "white"
             }
            },
            "header": {
             "fill": {
              "color": "#C8D4E3"
             },
             "line": {
              "color": "white"
             }
            },
            "type": "table"
           }
          ]
         },
         "layout": {
          "annotationdefaults": {
           "arrowcolor": "#2a3f5f",
           "arrowhead": 0,
           "arrowwidth": 1
          },
          "autotypenumbers": "strict",
          "coloraxis": {
           "colorbar": {
            "outlinewidth": 0,
            "ticks": ""
           }
          },
          "colorscale": {
           "diverging": [
            [
             0,
             "#8e0152"
            ],
            [
             0.1,
             "#c51b7d"
            ],
            [
             0.2,
             "#de77ae"
            ],
            [
             0.3,
             "#f1b6da"
            ],
            [
             0.4,
             "#fde0ef"
            ],
            [
             0.5,
             "#f7f7f7"
            ],
            [
             0.6,
             "#e6f5d0"
            ],
            [
             0.7,
             "#b8e186"
            ],
            [
             0.8,
             "#7fbc41"
            ],
            [
             0.9,
             "#4d9221"
            ],
            [
             1,
             "#276419"
            ]
           ],
           "sequential": [
            [
             0,
             "#0d0887"
            ],
            [
             0.1111111111111111,
             "#46039f"
            ],
            [
             0.2222222222222222,
             "#7201a8"
            ],
            [
             0.3333333333333333,
             "#9c179e"
            ],
            [
             0.4444444444444444,
             "#bd3786"
            ],
            [
             0.5555555555555556,
             "#d8576b"
            ],
            [
             0.6666666666666666,
             "#ed7953"
            ],
            [
             0.7777777777777778,
             "#fb9f3a"
            ],
            [
             0.8888888888888888,
             "#fdca26"
            ],
            [
             1,
             "#f0f921"
            ]
           ],
           "sequentialminus": [
            [
             0,
             "#0d0887"
            ],
            [
             0.1111111111111111,
             "#46039f"
            ],
            [
             0.2222222222222222,
             "#7201a8"
            ],
            [
             0.3333333333333333,
             "#9c179e"
            ],
            [
             0.4444444444444444,
             "#bd3786"
            ],
            [
             0.5555555555555556,
             "#d8576b"
            ],
            [
             0.6666666666666666,
             "#ed7953"
            ],
            [
             0.7777777777777778,
             "#fb9f3a"
            ],
            [
             0.8888888888888888,
             "#fdca26"
            ],
            [
             1,
             "#f0f921"
            ]
           ]
          },
          "colorway": [
           "#636efa",
           "#EF553B",
           "#00cc96",
           "#ab63fa",
           "#FFA15A",
           "#19d3f3",
           "#FF6692",
           "#B6E880",
           "#FF97FF",
           "#FECB52"
          ],
          "font": {
           "color": "#2a3f5f"
          },
          "geo": {
           "bgcolor": "white",
           "lakecolor": "white",
           "landcolor": "#E5ECF6",
           "showlakes": true,
           "showland": true,
           "subunitcolor": "white"
          },
          "hoverlabel": {
           "align": "left"
          },
          "hovermode": "closest",
          "mapbox": {
           "style": "light"
          },
          "paper_bgcolor": "white",
          "plot_bgcolor": "#E5ECF6",
          "polar": {
           "angularaxis": {
            "gridcolor": "white",
            "linecolor": "white",
            "ticks": ""
           },
           "bgcolor": "#E5ECF6",
           "radialaxis": {
            "gridcolor": "white",
            "linecolor": "white",
            "ticks": ""
           }
          },
          "scene": {
           "xaxis": {
            "backgroundcolor": "#E5ECF6",
            "gridcolor": "white",
            "gridwidth": 2,
            "linecolor": "white",
            "showbackground": true,
            "ticks": "",
            "zerolinecolor": "white"
           },
           "yaxis": {
            "backgroundcolor": "#E5ECF6",
            "gridcolor": "white",
            "gridwidth": 2,
            "linecolor": "white",
            "showbackground": true,
            "ticks": "",
            "zerolinecolor": "white"
           },
           "zaxis": {
            "backgroundcolor": "#E5ECF6",
            "gridcolor": "white",
            "gridwidth": 2,
            "linecolor": "white",
            "showbackground": true,
            "ticks": "",
            "zerolinecolor": "white"
           }
          },
          "shapedefaults": {
           "line": {
            "color": "#2a3f5f"
           }
          },
          "ternary": {
           "aaxis": {
            "gridcolor": "white",
            "linecolor": "white",
            "ticks": ""
           },
           "baxis": {
            "gridcolor": "white",
            "linecolor": "white",
            "ticks": ""
           },
           "bgcolor": "#E5ECF6",
           "caxis": {
            "gridcolor": "white",
            "linecolor": "white",
            "ticks": ""
           }
          },
          "title": {
           "x": 0.05
          },
          "xaxis": {
           "automargin": true,
           "gridcolor": "white",
           "linecolor": "white",
           "ticks": "",
           "title": {
            "standoff": 15
           },
           "zerolinecolor": "white",
           "zerolinewidth": 2
          },
          "yaxis": {
           "automargin": true,
           "gridcolor": "white",
           "linecolor": "white",
           "ticks": "",
           "title": {
            "standoff": 15
           },
           "zerolinecolor": "white",
           "zerolinewidth": 2
          }
         }
        },
        "title": {
         "text": "Hotel Cancellations: Actual vs Predicted"
        },
        "xaxis": {
         "title": {
          "text": "Week"
         }
        },
        "yaxis": {
         "title": {
          "text": "Number of Cancellations"
         }
        }
       }
      }
     },
     "metadata": {},
     "output_type": "display_data"
    }
   ],
   "source": [
    "# Create figure\n",
    "fig = go.Figure()\n",
    "\n",
    "# Add training data\n",
    "fig.add_trace(go.Scatter(y=Y_train, x=X_train, name=\"Training Data\", mode=\"lines\"))\n",
    "\n",
    "# Add test data\n",
    "fig.add_trace(go.Scatter(y=Y_test, x=X_test, name=\"Test Data\", mode=\"lines\"))\n",
    "\n",
    "# Add predictions\n",
    "fig.add_trace(go.Scatter(y=y_hat, x=X_test, name=\"Predictions\", mode=\"lines\"))\n",
    "\n",
    "# Update layout\n",
    "fig.update_layout(\n",
    "    title=\"Hotel Cancellations: Actual vs Predicted\",\n",
    "    xaxis_title=\"Week\",\n",
    "    yaxis_title=\"Number of Cancellations\",\n",
    "    showlegend=True,\n",
    ")\n",
    "\n",
    "fig.show()"
   ]
  }
 ],
 "metadata": {
  "kernelspec": {
   "display_name": ".venv",
   "language": "python",
   "name": "python3"
  },
  "language_info": {
   "codemirror_mode": {
    "name": "ipython",
    "version": 3
   },
   "file_extension": ".py",
   "mimetype": "text/x-python",
   "name": "python",
   "nbconvert_exporter": "python",
   "pygments_lexer": "ipython3",
   "version": "3.11.9"
  }
 },
 "nbformat": 4,
 "nbformat_minor": 2
}
